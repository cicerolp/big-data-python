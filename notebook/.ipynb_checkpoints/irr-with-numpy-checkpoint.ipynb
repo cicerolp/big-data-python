{
 "cells": [
  {
   "cell_type": "code",
   "execution_count": 114,
   "metadata": {
    "scrolled": true
   },
   "outputs": [
    {
     "name": "stdout",
     "output_type": "stream",
     "text": [
      "The autoreload extension is already loaded. To reload it, use:\n",
      "  %reload_ext autoreload\n"
     ]
    }
   ],
   "source": [
    "%load_ext autoreload\n",
    "%autoreload 2\n",
    "\n",
    "import numpy as np\n",
    "import pandas as pd\n",
    "from datetime import datetime, timedelta\n",
    "\n",
    "import requests\n",
    "\n",
    "from pydblite.pydblite import Base"
   ]
  },
  {
   "cell_type": "markdown",
   "metadata": {},
   "source": [
    "### 1. Read an CSV file with the assets;"
   ]
  },
  {
   "cell_type": "code",
   "execution_count": 115,
   "metadata": {},
   "outputs": [],
   "source": [
    "df = pd.read_csv('../Ativos.csv', sep=';', names=['asset', 'cash_flow', 'due_date'], usecols=[0, 1, 2], skiprows=1)"
   ]
  },
  {
   "cell_type": "code",
   "execution_count": 116,
   "metadata": {},
   "outputs": [],
   "source": [
    "df['cash_flow'] = df['cash_flow'].str.replace(r'(R\\$|\\.)', '').str.replace(',', '.').astype(float)\n",
    "df['due_date'] = pd.to_datetime(df['due_date'],  format='%d/%m/%Y')"
   ]
  },
  {
   "cell_type": "markdown",
   "metadata": {},
   "source": [
    "Filter based on 'D' day"
   ]
  },
  {
   "cell_type": "code",
   "execution_count": 117,
   "metadata": {},
   "outputs": [],
   "source": [
    "d_day = ''\n",
    "if not d_day:\n",
    "    d_day = df['due_date'][0] - timedelta(days=1)\n",
    "else:\n",
    "    d_day = pd.to_datetime(d_day, format='%d/%m/%Y', errors='ignore')"
   ]
  },
  {
   "cell_type": "code",
   "execution_count": 118,
   "metadata": {},
   "outputs": [],
   "source": [
    "df = df[df['due_date'] >= d_day]"
   ]
  },
  {
   "cell_type": "markdown",
   "metadata": {},
   "source": [
    "Add initial investiment"
   ]
  },
  {
   "cell_type": "code",
   "execution_count": 119,
   "metadata": {},
   "outputs": [],
   "source": [
    "INITIAL_INVESTMENT = 300000"
   ]
  },
  {
   "cell_type": "code",
   "execution_count": 120,
   "metadata": {},
   "outputs": [],
   "source": [
    "initial_df = pd.DataFrame.from_dict({'due_date': [d_day], 'cash_flow': [-INITIAL_INVESTMENT]})\n",
    "df = pd.concat([initial_df, df], ignore_index=True).sort_values(by='due_date')"
   ]
  },
  {
   "cell_type": "markdown",
   "metadata": {},
   "source": [
    "### 2. Calculate the IRR;"
   ]
  },
  {
   "cell_type": "markdown",
   "metadata": {},
   "source": [
    "Calculate IRR for irregular intervals using a binary search approach"
   ]
  },
  {
   "cell_type": "code",
   "execution_count": 121,
   "metadata": {},
   "outputs": [],
   "source": [
    "MAX_LOG = 1e3\n",
    "\n",
    "cash_flow = df['cash_flow'].to_numpy()\n",
    "due_dates = df['due_date'].to_numpy()\n",
    "\n",
    "def compute_xirr(due_dates, cash_flow, max_iterations=100, tol=1e-10):\n",
    "    # compute years fraction from start_date\n",
    "    years_fraction = np.array(due_dates - due_dates[0], dtype='timedelta64[D]').astype(int) / 365.2425\n",
    "\n",
    "    # set initial values\n",
    "    xirr = 1\n",
    "    xirr_lo, xirr_hi = - MAX_LOG, + MAX_LOG\n",
    "\n",
    "    for _ in range(max_iterations): \n",
    "        prev_xirr = xirr\n",
    "        xirr = (xirr_lo + xirr_hi) / 2.0\n",
    "\n",
    "        # test against TOL\n",
    "        if abs(prev_xirr - xirr) < tol:\n",
    "            return xirr\n",
    "\n",
    "        # instead of iterating NPV until it reachs 0, we use it to\n",
    "        # calculate IRR using a binary approach (faster than the naive alternative)\n",
    "        npv = np.sum(cash_flow / np.power(1 + xirr, years_fraction))\n",
    "\n",
    "        if np.sign(npv) < 0:\n",
    "            # decrease upper limit\n",
    "            xirr_hi = xirr\n",
    "        else:\n",
    "            # increase lower limit\n",
    "            xirr_lo  = xirr\n",
    "    return xirr"
   ]
  },
  {
   "cell_type": "code",
   "execution_count": 122,
   "metadata": {},
   "outputs": [],
   "source": [
    "xirr = compute_xirr(due_dates, cash_flow)"
   ]
  },
  {
   "cell_type": "markdown",
   "metadata": {},
   "source": [
    "## 3. Consume a public web service that return the Selic rate of the day;"
   ]
  },
  {
   "cell_type": "code",
   "execution_count": 123,
   "metadata": {},
   "outputs": [],
   "source": [
    "API = 'https://api.bcb.gov.br/dados/serie/bcdata.sgs.11/dados/ultimos/1?formato=json'"
   ]
  },
  {
   "cell_type": "code",
   "execution_count": 124,
   "metadata": {},
   "outputs": [],
   "source": [
    "r = requests.get(API)\n",
    "\n",
    "if r.status_code == 200:\n",
    "    data = r.json()[0]\n",
    "    selic_date = data['data']\n",
    "    selic_rate = float(data['valor'])"
   ]
  },
  {
   "cell_type": "markdown",
   "metadata": {},
   "source": [
    "## 4. Show the IRR calculated and the Selic rate in console;"
   ]
  },
  {
   "cell_type": "code",
   "execution_count": 125,
   "metadata": {
    "scrolled": true
   },
   "outputs": [
    {
     "data": {
      "text/plain": [
       "'Internal Rate of Return: 72.82%'"
      ]
     },
     "execution_count": 125,
     "metadata": {},
     "output_type": "execute_result"
    }
   ],
   "source": [
    "f'Internal Rate of Return: {xirr:.2%}'"
   ]
  },
  {
   "cell_type": "code",
   "execution_count": 126,
   "metadata": {},
   "outputs": [
    {
     "data": {
      "text/plain": [
       "'Selic Rate of Today (12/06/2020): 1.13%'"
      ]
     },
     "execution_count": 126,
     "metadata": {},
     "output_type": "execute_result"
    }
   ],
   "source": [
    "f'Selic Rate of Today ({selic_date}): {selic_rate:.2%}'"
   ]
  },
  {
   "cell_type": "markdown",
   "metadata": {},
   "source": [
    "## 5. Store the information of the CSV file, the calculated IRR and Selic rate in a in memory database"
   ]
  },
  {
   "cell_type": "code",
   "execution_count": 127,
   "metadata": {},
   "outputs": [],
   "source": [
    "db_rate = Base('db_rate', save_to_file=False)\n",
    "db_rate.create('rate', 'value', mode='override')\n",
    "\n",
    "db_rate.insert(rate='irr', value=xirr)\n",
    "db_rate.insert(rate='selic', value=selic_rate)\n",
    "\n",
    "db_rate.commit()"
   ]
  },
  {
   "cell_type": "code",
   "execution_count": 128,
   "metadata": {},
   "outputs": [
    {
     "data": {
      "text/plain": [
       "dict_values([{'rate': 'irr', 'value': 0.7282076442720609, '__id__': 0, '__version__': 0}, {'rate': 'selic', 'value': 0.011345, '__id__': 1, '__version__': 0}])"
      ]
     },
     "execution_count": 128,
     "metadata": {},
     "output_type": "execute_result"
    }
   ],
   "source": [
    "db_rate()"
   ]
  },
  {
   "cell_type": "code",
   "execution_count": 129,
   "metadata": {},
   "outputs": [],
   "source": [
    "db_csv = Base('db_csv', save_to_file=False)\n",
    "db_csv.create('asset', 'cash_flow', 'due_date', mode='override')\n",
    "\n",
    "for item in df.to_dict('records'):\n",
    "    db_csv.insert(**item)\n",
    "db_csv.commit()"
   ]
  },
  {
   "cell_type": "code",
   "execution_count": 130,
   "metadata": {},
   "outputs": [
    {
     "data": {
      "text/plain": [
       "dict_values([{'asset': nan, 'cash_flow': -300000.0, 'due_date': Timestamp('2020-09-08 00:00:00'), '__id__': 0, '__version__': 0}, {'asset': '1234rtd', 'cash_flow': 9023.56, 'due_date': Timestamp('2020-09-09 00:00:00'), '__id__': 1, '__version__': 0}, {'asset': '5rd', 'cash_flow': 11154.45, 'due_date': Timestamp('2020-10-07 00:00:00'), '__id__': 2, '__version__': 0}, {'asset': 'ngdryss1', 'cash_flow': 28201.57, 'due_date': Timestamp('2020-10-09 00:00:00'), '__id__': 3, '__version__': 0}, {'asset': 'cccccc3', 'cash_flow': 40986.91, 'due_date': Timestamp('2020-10-09 00:00:00'), '__id__': 4, '__version__': 0}, {'asset': 'qwer33', 'cash_flow': 2630.89, 'due_date': Timestamp('2020-11-01 00:00:00'), '__id__': 5, '__version__': 0}, {'asset': 'oihgfd', 'cash_flow': 13285.34, 'due_date': Timestamp('2020-11-08 00:00:00'), '__id__': 6, '__version__': 0}, {'asset': 'zxcvbn', 'cash_flow': 15416.23, 'due_date': Timestamp('2020-12-23 00:00:00'), '__id__': 7, '__version__': 0}, {'asset': 'plkm11', 'cash_flow': 4761.78, 'due_date': Timestamp('2021-02-03 00:00:00'), '__id__': 8, '__version__': 0}, {'asset': 'yhnpo', 'cash_flow': 6892.67, 'due_date': Timestamp('2021-02-04 00:00:00'), '__id__': 9, '__version__': 0}, {'asset': 'asdfgh', 'cash_flow': 17547.12, 'due_date': Timestamp('2021-03-06 00:00:00'), '__id__': 10, '__version__': 0}, {'asset': 'eeeeee5', 'cash_flow': 45248.69, 'due_date': Timestamp('2021-12-14 00:00:00'), '__id__': 11, '__version__': 0}, {'asset': 'qwertt3', 'cash_flow': 19678.01, 'due_date': Timestamp('2021-12-14 00:00:00'), '__id__': 12, '__version__': 0}, {'asset': 'zawsced3', 'cash_flow': 32463.35, 'due_date': Timestamp('2021-12-14 00:00:00'), '__id__': 13, '__version__': 0}, {'asset': 'poiuyghj', 'cash_flow': 21808.9, 'due_date': Timestamp('2022-03-25 00:00:00'), '__id__': 14, '__version__': 0}, {'asset': '0kdddaa', 'cash_flow': 34594.24, 'due_date': Timestamp('2022-03-25 00:00:00'), '__id__': 15, '__version__': 0}, {'asset': 'fffffff6', 'cash_flow': 47379.58, 'due_date': Timestamp('2022-03-25 00:00:00'), '__id__': 16, '__version__': 0}, {'asset': 'plokjiuqq', 'cash_flow': 23939.79, 'due_date': Timestamp('2022-07-19 00:00:00'), '__id__': 17, '__version__': 0}, {'asset': 'aaaaaa1', 'cash_flow': 36725.13, 'due_date': Timestamp('2022-07-19 00:00:00'), '__id__': 18, '__version__': 0}, {'asset': 'gggggg7', 'cash_flow': 49510.47, 'due_date': Timestamp('2022-07-19 00:00:00'), '__id__': 19, '__version__': 0}, {'asset': 'mpnobi1', 'cash_flow': 30332.46, 'due_date': Timestamp('2022-12-12 00:00:00'), '__id__': 20, '__version__': 0}, {'asset': 'dddd4', 'cash_flow': 43117.8, 'due_date': Timestamp('2022-12-12 00:00:00'), '__id__': 21, '__version__': 0}, {'asset': 'defrgthy4', 'cash_flow': 26070.68, 'due_date': Timestamp('2024-04-04 00:00:00'), '__id__': 22, '__version__': 0}, {'asset': 'bbbbb2', 'cash_flow': 38856.02, 'due_date': Timestamp('2024-04-04 00:00:00'), '__id__': 23, '__version__': 0}])"
      ]
     },
     "execution_count": 130,
     "metadata": {},
     "output_type": "execute_result"
    }
   ],
   "source": [
    "db_csv()"
   ]
  }
 ],
 "metadata": {
  "kernelspec": {
   "display_name": "Python 3",
   "language": "python",
   "name": "python3"
  },
  "language_info": {
   "codemirror_mode": {
    "name": "ipython",
    "version": 3
   },
   "file_extension": ".py",
   "mimetype": "text/x-python",
   "name": "python",
   "nbconvert_exporter": "python",
   "pygments_lexer": "ipython3",
   "version": "3.7.7"
  }
 },
 "nbformat": 4,
 "nbformat_minor": 2
}
